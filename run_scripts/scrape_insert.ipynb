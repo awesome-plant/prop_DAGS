{
 "metadata": {
  "language_info": {
   "codemirror_mode": {
    "name": "ipython",
    "version": 3
   },
   "file_extension": ".py",
   "mimetype": "text/x-python",
   "name": "python",
   "nbconvert_exporter": "python",
   "pygments_lexer": "ipython3",
   "version": "3.7.6-final"
  },
  "orig_nbformat": 2,
  "kernelspec": {
   "name": "python3",
   "display_name": "Python 3",
   "language": "python"
  }
 },
 "nbformat": 4,
 "nbformat_minor": 2,
 "cells": [
  {
   "cell_type": "code",
   "execution_count": null,
   "metadata": {},
   "outputs": [],
   "source": [
    "import logging\n",
    "import os\n",
    "import datetime \n",
    "import time\n",
    "import requests\n",
    "import urllib.request\n",
    "from lxml import etree\n",
    "from fake_useragent import UserAgent\n",
    "import pandas as pd \n",
    "import gzip\n",
    "import shutil \n",
    "import sys\n",
    "import psycopg2"
   ]
  },
  {
   "cell_type": "code",
   "execution_count": null,
   "metadata": {},
   "outputs": [],
   "source": [
    "baseurl='https://www.realestate.com.au/xml-sitemap/'\n",
    "PageSaveFolder=r'D:\\shared_folder\\airflow_logs\\XML_save_folder\\gz_files\\\\' #'/opt/airflow/logs/XML_save_folder/raw_sitemap'\n",
    "ScrapeFile = 'pdp-sitemap-buy-1.xml.gz'"
   ]
  },
  {
   "cell_type": "code",
   "execution_count": 37,
   "metadata": {},
   "outputs": [
    {
     "output_type": "stream",
     "name": "stdout",
     "text": [
      "gz file: pdp-sitemap-buy-1.xml.gz\n"
     ]
    }
   ],
   "source": [
    "print('gz file:', ScrapeFile)\n",
    "#download from sitemap, use dynamic variable \n",
    "sitemap_url = baseurl #'https://www.realestate.com.au/xml-sitemap/'#pdp-sitemap-buy-1.xml.gz' \n",
    "_file=ScrapeFile #im lazy, sue me\n",
    "gz_save_name =_file[:-7] + '_' + (datetime.datetime.now()).strftime('%Y-%m-%d') + '.gz'\n",
    "gz_url = sitemap_url + _file\n",
    "gz_save_path = PageSaveFolder"
   ]
  },
  {
   "cell_type": "code",
   "execution_count": 39,
   "metadata": {},
   "outputs": [
    {
     "output_type": "execute_result",
     "data": {
      "text/plain": [
       "('D:\\\\shared_folder\\\\airflow_logs\\\\XML_save_folder\\\\gz_files\\\\\\\\pdp-sitemap-buy-1_2021-01-01.gz',\n",
       " <http.client.HTTPMessage at 0x27888caefc8>)"
      ]
     },
     "metadata": {},
     "execution_count": 39
    }
   ],
   "source": [
    "urllib.request.urlretrieve(gz_url, gz_save_path + gz_save_name)"
   ]
  },
  {
   "cell_type": "code",
   "execution_count": 38,
   "metadata": {},
   "outputs": [
    {
     "output_type": "stream",
     "name": "stdout",
     "text": [
      "file: pdp-sitemap-buy-1_2021-01-01.gz\nwritten to dir: D:\\shared_folder\\airflow_logs\\XML_save_folder\\gz_files\\\\pdp-sitemap-buy-1_2021-01-01.gz\n"
     ]
    }
   ],
   "source": [
    "#save gz to dir for archiving \n",
    "print(\"file:\", gz_save_name)\n",
    "print(\"written to dir:\", gz_save_path + gz_save_name)"
   ]
  },
  {
   "cell_type": "code",
   "execution_count": 40,
   "metadata": {},
   "outputs": [],
   "source": [
    "#feast upon that rich gooey xml \n",
    "_xml_save = _file[:-7] + '_' + (datetime.datetime.now()).strftime('%Y-%m-%d') + '.xml'  \n",
    "with gzip.open(gz_save_path + gz_save_name, 'rb') as f_in:\n",
    "    with open(gz_save_path + _xml_save, 'wb') as f_out: \n",
    "        shutil.copyfileobj(f_in, f_out)"
   ]
  },
  {
   "cell_type": "code",
   "execution_count": null,
   "metadata": {},
   "outputs": [],
   "source": [
    "\n",
    "#xml part \n",
    "root = etree.parse(gz_save_path + _xml_save)\n",
    "XML_gz_Dataset=pd.DataFrame(columns =['Parent_gz','ScrapeDT','Url', 'PropType', 'State', 'Suburb', 'PropID', 'LastMod', 'ExternalIP'])\n",
    "_PropType=_State=_PropID=_LastMod=_split=_Url=\"\"\n",
    "_external_ip = urllib.request.urlopen('https://ident.me').read().decode('utf8')\n",
    "#iterate xml\n",
    "for element in root.iter():\n",
    "    #writes results to df, same as the previous module \n",
    "    if 'url' in element.tag and _Url != '':\n",
    "        XML_gz_Dataset=XML_gz_Dataset.append({\n",
    "                    'Parent_gz': str(ScrapeFile)\n",
    "                    ,'ScrapeDT' : (datetime.datetime.now()).strftime('%Y-%m-%d %H:%M:%S')\n",
    "                    , 'Url' : str(_Url)\n",
    "                    , 'PropType' : str(_PropType)\n",
    "                    , 'State' : str(_State)\n",
    "                    , 'Suburb' : str(_Suburb)\n",
    "                    , 'PropID' : str(_PropID)\n",
    "                    , 'LastMod': str(_LastMod)\n",
    "                    , 'ExternalIP': str(_external_ip)\n",
    "                    } ,ignore_index=True) \n",
    "        _PropType=_State=_PropID=_LastMod=_split=_Url=\"\"\n",
    "    if 'lastmod' in element.tag: \n",
    "        _LastMod = element.text\n",
    "    #just about everything gleaned from loac (url) tag\n",
    "    elif 'loc' in element.tag: \n",
    "        if '-tas-' in element.text: \n",
    "            _State='tas'\n",
    "        elif '-vic-' in element.text: \n",
    "            _State='vic'\n",
    "        elif '-nsw-' in element.text: \n",
    "            _State='nsw'\n",
    "        elif '-act-' in element.text: \n",
    "            _State='act'\n",
    "        elif '-qld-' in element.text: \n",
    "            _State='qld'\n",
    "        elif '-nt-' in element.text: \n",
    "            _State='nt'\n",
    "        elif '-sa-' in element.text: \n",
    "            _State='sa'\n",
    "        elif '-wa-' in element.text: \n",
    "            _State='wa'\n",
    "        \n",
    "        _Url = element.text\n",
    "        _split=str(element.text).split(_State)\n",
    "        #had to do it this way so unconventional suburb names are still caught\n",
    "        _PropType = _split[0].replace('https://www.realestate.com.au/property-','')[:-1]\n",
    "        _split=str(element.text).split('-')\n",
    "        _Suburb=_split[len(_split) -2 ]\n",
    "        _PropID=_split[len(_split) -1 ]\n",
    "\n",
    "XML_gz_Dataset.to_csv(gz_save_path + _xml_save[:-3] + '_results' +'.csv')\n",
    "print(\"file saved to: \" + gz_save_path + _xml_save[:-3] + '_results' +'.csv')"
   ]
  },
  {
   "cell_type": "code",
   "execution_count": null,
   "metadata": {},
   "outputs": [],
   "source": [
    "# https://pandas.pydata.org/pandas-docs/stable/user_guide/io.html#io-sql-method\n",
    "import csv\n",
    "from io import StringIO\n",
    "\n",
    "from sqlalchemy import create_engine\n",
    "\n",
    "def psql_insert_copy(table, conn, keys, data_iter):\n",
    "    \"\"\"\n",
    "    Execute SQL statement inserting data\n",
    "\n",
    "    Parameters\n",
    "    ----------\n",
    "    table : pandas.io.sql.SQLTable\n",
    "    conn : sqlalchemy.engine.Engine or sqlalchemy.engine.Connection\n",
    "    keys : list of str\n",
    "        Column names\n",
    "    data_iter : Iterable that iterates the values to be inserted\n",
    "    \"\"\"\n",
    "    # gets a DBAPI connection that can provide a cursor\n",
    "    dbapi_conn = conn.connection\n",
    "    with dbapi_conn.cursor() as cur:\n",
    "        s_buf = StringIO()\n",
    "        writer = csv.writer(s_buf)\n",
    "        writer.writerows(data_iter)\n",
    "        s_buf.seek(0)\n",
    "\n",
    "        columns = ', '.join('\"{}\"'.format(k) for k in keys)\n",
    "        if table.schema:\n",
    "            table_name = '{}.{}'.format(table.schema, table.name)\n",
    "        else:\n",
    "            table_name = table.name\n",
    "\n",
    "        sql = 'COPY {} ({}) FROM STDIN WITH CSV'.format(\n",
    "            table_name, columns)\n",
    "        cur.copy_expert(sql=sql, file=s_buf)"
   ]
  }
 ]
}